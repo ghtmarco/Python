{
 "cells": [
  {
   "cell_type": "code",
   "execution_count": 3,
   "metadata": {},
   "outputs": [],
   "source": [
    "import numpy as np "
   ]
  },
  {
   "cell_type": "code",
   "execution_count": 4,
   "metadata": {},
   "outputs": [],
   "source": [
    "x = [\n",
    "    [2, -2, 6],\n",
    "    [-2, 4, 3],\n",
    "    [-1, 8, 4],\n",
    "]\n",
    "\n",
    "y = [\n",
    "    16,\n",
    "    0,\n",
    "    -1\n",
    "]"
   ]
  },
  {
   "cell_type": "code",
   "execution_count": 8,
   "metadata": {},
   "outputs": [
    {
     "name": "stdout",
     "output_type": "stream",
     "text": [
      "[[ 0 -2  6]\n",
      " [-2  0  3]\n",
      " [-1  8  0]]\n",
      "[2 4 4]\n",
      "[8 5 9]\n"
     ]
    },
    {
     "data": {
      "text/plain": [
       "False"
      ]
     },
     "execution_count": 8,
     "metadata": {},
     "output_type": "execute_result"
    }
   ],
   "source": [
    "\n",
    "def diagonal_dominance(matrix):\n",
    "    matrix = np.array(matrix) \n",
    "    mat_diag = np.diag(np.abs(matrix))\n",
    "    np.fill_diagonal(matrix, 0)\n",
    "    off_diag = np.sum(np.abs(matrix), axis=1)\n",
    "        \n",
    "    print(matrix)\n",
    "    print(mat_diag)\n",
    "    print(off_diag)    \n",
    "    return np.all(mat_diag > off_diag)\n",
    "\n",
    "diagonal_dominance(x)"
   ]
  },
  {
   "cell_type": "code",
   "execution_count": 7,
   "metadata": {},
   "outputs": [
    {
     "name": "stdout",
     "output_type": "stream",
     "text": [
      "[[ 0 -2  6]\n",
      " [-2  0  3]\n",
      " [-1  8  0]]\n",
      "[2 4 4]\n",
      "[8 5 9]\n",
      "Not Diagonal Dominant\n"
     ]
    }
   ],
   "source": [
    "def gauss_seidel(x,y):\n",
    "   if not diagonal_dominance(x):\n",
    "       print(\"Not Diagonal Dominant\")\n",
    "       return\n",
    "   \n",
    "   x = np.array(x)\n",
    "   y = np.array(y)\n",
    "   x_diag = np.array(np.diag(x))\n",
    "   np.fill_diagonal(x, 0)\n",
    "   \n",
    "   max_iter = 50\n",
    "   threshold = 0.005\n",
    "   x = -x\n",
    "   \n",
    "   res_old = np.zeros(x_diag.shape)\n",
    "   for iter in range(max_iter):\n",
    "        res_new = np.array(res_old)  \n",
    "        for idx, row in enumerate(x):\n",
    "           res_new[idx] = (y[idx] + np.dot(res_new, row)) / x_diag[idx]\n",
    "        \n",
    "        diff = np.sqrt(np.dot(res_new - res_old, res_new - res_old))\n",
    "        print(f\"Iteration #{iter + 1} : {res_new}\")\n",
    "        print(f\"diff = {diff}\")\n",
    "        \n",
    "        if(diff <= threshold):\n",
    "            print(\"Convergence\")\n",
    "            return\n",
    "        \n",
    "        res_old = res_new\n",
    "        \n",
    "gauss_seidel(x,y)\n",
    "    "
   ]
  }
 ],
 "metadata": {
  "kernelspec": {
   "display_name": "scientific_computing",
   "language": "python",
   "name": "python3"
  },
  "language_info": {
   "codemirror_mode": {
    "name": "ipython",
    "version": 3
   },
   "file_extension": ".py",
   "mimetype": "text/x-python",
   "name": "python",
   "nbconvert_exporter": "python",
   "pygments_lexer": "ipython3",
   "version": "3.12.3"
  }
 },
 "nbformat": 4,
 "nbformat_minor": 2
}
