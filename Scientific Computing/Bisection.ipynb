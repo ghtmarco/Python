{
 "cells": [
  {
   "cell_type": "code",
   "execution_count": 33,
   "metadata": {},
   "outputs": [],
   "source": [
    "import numpy as np"
   ]
  },
  {
   "cell_type": "code",
   "execution_count": 34,
   "metadata": {},
   "outputs": [],
   "source": [
    "def f(x):\n",
    "    return 8 * (x**3) + 5 * (x**2) - 3 * x + 7\n",
    "\n",
    "def g(x):\n",
    "    return 24*(x**2)+10*x-3"
   ]
  },
  {
   "cell_type": "code",
   "execution_count": 35,
   "metadata": {},
   "outputs": [],
   "source": [
    "\n",
    "iter = 0\n",
    "def bisection(left, right, tolerance = 0.001):\n",
    "    global iter\n",
    "    iter += 1\n",
    "    \n",
    "    if(np.sign(f(left)) == np.sign(f(right))):\n",
    "        print(\"Invalid left and right parameter\")\n",
    "        return \n",
    "    \n",
    "    mid = left + (right-left)/2\n",
    "    print(f\"Iteration {iter}: f({mid}) = {f(mid)}\")\n",
    "    \n",
    "    if(np.absolute(f(mid)) < tolerance):\n",
    "        print(f\"Root found\")\n",
    "        return\n",
    "    elif (np.sign(f(mid)) == np.sign(f(right))):\n",
    "        bisection(left, mid, tolerance)\n",
    "    else:\n",
    "        bisection(mid, right, tolerance)\n",
    "    "
   ]
  },
  {
   "cell_type": "code",
   "execution_count": 36,
   "metadata": {},
   "outputs": [
    {
     "name": "stdout",
     "output_type": "stream",
     "text": [
      "Iteration 1: f(4774127.0) = 8.705063576010894e+20\n",
      "Iteration 2: f(2387002.0) = 1.0880489880602673e+20\n",
      "Iteration 3: f(1193439.5) = 1.359851353918105e+19\n",
      "Iteration 4: f(596658.25) = 1.699289570477234e+18\n",
      "Iteration 5: f(298267.625) = 2.1228008131103267e+17\n",
      "Iteration 6: f(149072.3125) = 2.6502251650102816e+16\n",
      "Iteration 7: f(74474.65625) = 3304601940898501.0\n",
      "Iteration 8: f(37175.828125) = 411035415451252.56\n",
      "Iteration 9: f(18526.4140625) = 50871991121323.94\n",
      "Iteration 10: f(9201.70703125) = 6233395567904.533\n",
      "Iteration 11: f(4539.353515625) = 748396570721.1925\n",
      "Iteration 12: f(2208.1767578125) = 86161720341.12886\n",
      "Iteration 13: f(1042.58837890625) = 9071701370.250868\n",
      "Iteration 14: f(459.794189453125) = 778698960.3818266\n",
      "Iteration 15: f(168.3970947265625) = 38343964.4374847\n",
      "Iteration 16: f(22.69854736328125) = 96073.72506931753\n",
      "Iteration 17: f(-50.150726318359375) = -996337.939673082\n",
      "Iteration 18: f(-13.726089477539062) = -19698.363630132004\n",
      "Iteration 19: f(4.486228942871094) = 816.5002904910019\n",
      "Iteration 20: f(-4.619930267333984) = -661.2747337160259\n",
      "Iteration 21: f(-0.06685066223144531) = 7.220506991117482\n",
      "Iteration 22: f(-2.343390464782715) = -61.46186803373571\n",
      "Iteration 23: f(-1.20512056350708) = 3.875216663644128\n",
      "Iteration 24: f(-1.7742555141448975) = -16.619924620404177\n",
      "Iteration 25: f(-1.4896880388259888) = -3.8820570582700356\n",
      "Iteration 26: f(-1.3474043011665344) = 0.5500223644582434\n",
      "Iteration 27: f(-1.4185461699962616) = -1.519015247931062\n",
      "Iteration 28: f(-1.382975235581398) = -0.44882609930920303\n",
      "Iteration 29: f(-1.3651897683739662) = 0.059380695391753946\n",
      "Iteration 30: f(-1.3740825019776821) = -0.19251018340572124\n",
      "Iteration 31: f(-1.3696361351758242) = -0.06601372409981643\n",
      "Iteration 32: f(-1.3674129517748952) = -0.0031790230936259434\n",
      "Iteration 33: f(-1.3663013600744307) = 0.028135175999617346\n",
      "Iteration 34: f(-1.366857155924663) = 0.01248666553620481\n",
      "Iteration 35: f(-1.367135053849779) = 0.004655969007162142\n",
      "Iteration 36: f(-1.3672740028123371) = 0.0007390099676189976\n",
      "Root found\n"
     ]
    }
   ],
   "source": [
    "bisection(-123, 9548377)"
   ]
  },
  {
   "cell_type": "code",
   "execution_count": 37,
   "metadata": {},
   "outputs": [
    {
     "name": "stdout",
     "output_type": "stream",
     "text": [
      "Iteration 1: -62558.069445640904\n",
      "Iteration 2: -41705.44907666643\n",
      "Iteration 3: -27803.702164914204\n",
      "Iteration 4: -18535.870891758925\n",
      "Iteration 5: -12357.316711674895\n",
      "Iteration 6: -8238.2805946485\n",
      "Iteration 7: -5492.256521176224\n",
      "Iteration 8: -3661.573812348006\n",
      "Iteration 9: -2441.1186833636166\n",
      "Iteration 10: -1627.4819460690537\n",
      "Iteration 11: -1085.0574776045303\n",
      "Iteration 12: -723.4411999435665\n",
      "Iteration 13: -482.363733590621\n",
      "Iteration 14: -321.6455010780993\n",
      "Iteration 15: -214.50013090086145\n",
      "Iteration 16: -143.0700626683739\n",
      "Iteration 17: -95.45028794644489\n",
      "Iteration 18: -63.704184225353934\n",
      "Iteration 19: -42.54074909289123\n",
      "Iteration 20: -28.432776828819577\n",
      "Iteration 21: -19.029014017283018\n",
      "Iteration 22: -12.76233617613654\n",
      "Iteration 23: -8.58867729798586\n",
      "Iteration 24: -5.813278888582904\n",
      "Iteration 25: -3.975462473553071\n",
      "Iteration 26: -2.772999141280298\n",
      "Iteration 27: -2.013547802986037\n",
      "Iteration 28: -1.582145475641932\n",
      "Iteration 29: -1.402267606552747\n",
      "Iteration 30: -1.3684501790293386\n",
      "Iteration 31: -1.3673015164479374\n",
      "Root found\n"
     ]
    }
   ],
   "source": [
    "\n",
    "iter = 0\n",
    "def newton_raphson(x0, tolerance = 0.001):\n",
    "    global iter\n",
    "    iter += 1\n",
    "    x1 = x0 - (f(x0)/g(x0))\n",
    "    print(f\"Iteration {iter}: {x1}\")\n",
    "    \n",
    "    if(np.abs(f(x1)) < tolerance):\n",
    "        print(\"Root found\")\n",
    "        return\n",
    "    \n",
    "    newton_raphson(x1, tolerance)\n",
    "    \n",
    "newton_raphson(-93837)"
   ]
  }
 ],
 "metadata": {
  "kernelspec": {
   "display_name": "scientific_computing",
   "language": "python",
   "name": "python3"
  },
  "language_info": {
   "codemirror_mode": {
    "name": "ipython",
    "version": 3
   },
   "file_extension": ".py",
   "mimetype": "text/x-python",
   "name": "python",
   "nbconvert_exporter": "python",
   "pygments_lexer": "ipython3",
   "version": "3.7.6"
  }
 },
 "nbformat": 4,
 "nbformat_minor": 2
}
